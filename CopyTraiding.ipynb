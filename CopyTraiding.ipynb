{
 "cells": [
  {
   "cell_type": "code",
   "execution_count": 9,
   "metadata": {},
   "outputs": [
    {
     "name": "stderr",
     "output_type": "stream",
     "text": [
      "[*********************100%***********************]  1 of 1 completed\n"
     ]
    },
    {
     "name": "stdout",
     "output_type": "stream",
     "text": [
      "Accuracy: 0.47\n"
     ]
    }
   ],
   "source": [
    "import pandas as pd\n",
    "import numpy as np\n",
    "from sklearn.model_selection import train_test_split\n",
    "from sklearn.ensemble import RandomForestClassifier\n",
    "from sklearn.metrics import accuracy_score\n",
    "import yfinance as yf\n",
    "\n",
    "# ----------------------------\n",
    "# 1. دریافت دادههای تاریخی قیمت\n",
    "# ----------------------------\n",
    "def fetch_data(ticker=\"BTC-USD\", start=\"2020-01-01\", end=\"2023-12-31\"):\n",
    "    data = yf.download(ticker, start=start, end=end)\n",
    "    return data\n",
    "\n",
    "# ----------------------------\n",
    "# 2. استخراج ویژگیهای مبتنی بر Price Action\n",
    "# ----------------------------\n",
    "def create_features(data):\n",
    "    df = data.copy()\n",
    "    \n",
    "    # ویژگی ۱: الگوی شمعی (Doji)\n",
    "    df['doji'] = np.where((abs(df['Open'] - df['Close']) / (df['High'] - df['Low']) < 0.1) & \n",
    "                        (df['High'] - df['Low'] > 0), 1, 0)\n",
    "    \n",
    "    # ویژگی ۲: شکست مقاومت/حمایت (ساده)\n",
    "    df['resistance'] = df['High'].rolling(20).max()\n",
    "    df['support'] = df['Low'].rolling(20).min()\n",
    "    \n",
    "    # ویژگی ۳: روند (Moving Average)\n",
    "    df['ma_50'] = df['Close'].rolling(50).mean()\n",
    "    df['ma_200'] = df['Close'].rolling(200).mean()\n",
    "    \n",
    "    # ویژگی ۴: تغییرات قیمت گذشته\n",
    "    df['ret_1'] = df['Close'].pct_change(1)\n",
    "    df['ret_3'] = df['Close'].pct_change(3)\n",
    "    \n",
    "    # حذف دادههای NaN\n",
    "    df = df.dropna()\n",
    "    \n",
    "    return df\n",
    "\n",
    "# ----------------------------\n",
    "# 3. ایجاد برچسب (هدف: پیشبینی صعود/نزول)\n",
    "# ----------------------------\n",
    "def create_labels(df, horizon=3):\n",
    "    df['label'] = np.where(df['Close'].shift(-horizon) > df['Close'], 1, 0)  # 1=صعودی, 0=نزولی\n",
    "    return df\n",
    "\n",
    "# ----------------------------\n",
    "# 4. آموزش مدل\n",
    "# ----------------------------\n",
    "def train_model(X, y):\n",
    "    X_train, X_test, y_train, y_test = train_test_split(X, y, test_size=0.2, shuffle=False)\n",
    "    model = RandomForestClassifier(n_estimators=100)\n",
    "    model.fit(X_train, y_train)\n",
    "    preds = model.predict(X_test)\n",
    "    print(f\"Accuracy: {accuracy_score(y_test, preds):.2f}\")\n",
    "    return model\n",
    "\n",
    "# ----------------------------\n",
    "# اجرای اصلی\n",
    "# ----------------------------\n",
    "if __name__ == \"__main__\":\n",
    "    # دریافت دادهها\n",
    "    data = fetch_data(ticker=\"BTC-USD\")\n",
    "    \n",
    "    # ایجاد ویژگیها و برچسبها\n",
    "    df = create_features(data)\n",
    "    df = create_labels(df, horizon=3)\n",
    "    \n",
    "    # انتخاب دادهها\n",
    "    features = ['doji', 'resistance', 'support', 'ma_50', 'ma_200', 'ret_1', 'ret_3']\n",
    "    X = df[features]\n",
    "    y = df['label']\n",
    "    \n",
    "    # آموزش مدل\n",
    "    model = train_model(X, y)"
   ]
  }
 ],
 "metadata": {
  "kernelspec": {
   "display_name": "Python 3",
   "language": "python",
   "name": "python3"
  },
  "language_info": {
   "codemirror_mode": {
    "name": "ipython",
    "version": 3
   },
   "file_extension": ".py",
   "mimetype": "text/x-python",
   "name": "python",
   "nbconvert_exporter": "python",
   "pygments_lexer": "ipython3",
   "version": "3.13.0"
  }
 },
 "nbformat": 4,
 "nbformat_minor": 2
}
